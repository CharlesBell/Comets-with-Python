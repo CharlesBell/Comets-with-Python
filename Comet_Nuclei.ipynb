{
 "cells": [
  {
   "cell_type": "markdown",
   "metadata": {},
   "source": [
    "<h2>Comet Nuclei</h2>\n",
    "\n"
   ]
  },
  {
   "cell_type": "markdown",
   "metadata": {},
   "source": [
    "<p> Radius of a nucleus in km with absolute magnitude H and albedo p:</p>\n",
    "    <--   comment equation in math.jax ->\n",
    "\n",
    "\n",
    "<table><tr><td>\n",
    "    \n",
    "\n",
    "\\begin{equation*} radius [m] = 1.496 x 10^{11}  \\frac{ 10^ {0.2 (Msun - H)} }{\\sqrt{p}}  \\end{equation*}\n",
    "    </td>  \n",
    "</tr></table>\n"
   ]
  },
  {
   "cell_type": "code",
   "execution_count": 42,
   "metadata": {},
   "outputs": [
    {
     "name": "stdout",
     "output_type": "stream",
     "text": [
      "absoluteMagnitude H =  22.5\n",
      "magnitude of the sun msun =  -26.75\n",
      "albedo =  0.04\n",
      "radius rn =  105.65780833778166 m\n"
     ]
    }
   ],
   "source": [
    "import numpy as np\n",
    "\"\"\"\n",
    "    Nuclear Radius in meters \n",
    "    Reference: Comets II, The Sizes, Shapes, Albedos, and Colors of Cometary Nuclei\n",
    "    Philippe L. Lamy, Laboratoire d’Astronomie Spatiale du Centre National de la Recherche Scientifique\n",
    "    Imre Toth, Konkoly Observatory\n",
    "    Yanga R. Fernández, Institute for Astronomy of the University of Hawai‘i\n",
    "    Harold A. Weaver, Applied Physics Laboratory of The Johns Hopkins\n",
    "    \n",
    "    Magnitude of the Sun (V = –26.75, R = –27.09) in the same spectral band as H\n",
    "    Parameters\n",
    "    ----------\n",
    "    H : float\n",
    "    msun : float\n",
    "    albedo : float\n",
    "    \n",
    "    Returns\n",
    "    -------\n",
    "    radius : float\n",
    "\n",
    "\"\"\"\n",
    "def getRadius(H,msun, p):\n",
    "    return 1.496E+11 * np.math.pow(10, 0.2 * (msun-H)) / np.math.sqrt(p)\n",
    "\n",
    "\n",
    "H = 22.5\n",
    "msun = -26.75\n",
    "albedo = 0.04\n",
    "radius= getRadius(H,msun, albedo)\n",
    "print('absoluteMagnitude H = ', H)\n",
    "print('magnitude of the sun msun = ', msun)\n",
    "print('albedo = ', albedo)\n",
    "print('radius rn = ', radius , 'm')\n"
   ]
  },
  {
   "cell_type": "code",
   "execution_count": null,
   "metadata": {},
   "outputs": [],
   "source": []
  },
  {
   "cell_type": "code",
   "execution_count": null,
   "metadata": {},
   "outputs": [],
   "source": []
  },
  {
   "cell_type": "code",
   "execution_count": null,
   "metadata": {},
   "outputs": [],
   "source": []
  }
 ],
 "metadata": {
  "kernelspec": {
   "display_name": "Python 3",
   "language": "python",
   "name": "python3"
  },
  "language_info": {
   "codemirror_mode": {
    "name": "ipython",
    "version": 3
   },
   "file_extension": ".py",
   "mimetype": "text/x-python",
   "name": "python",
   "nbconvert_exporter": "python",
   "pygments_lexer": "ipython3",
   "version": "3.6.8"
  }
 },
 "nbformat": 4,
 "nbformat_minor": 2
}
