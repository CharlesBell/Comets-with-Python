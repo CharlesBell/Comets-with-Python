{
 "cells": [
  {
   "cell_type": "markdown",
   "metadata": {},
   "source": [
    "<h2>Reading_JPL_Ephemeris_Output</h2>\n",
    "\n",
    "*** \n",
    "### reading ephem.fits\n",
    "\n",
    "printing out the table will only show an abbreviated output."
   ]
  },
  {
   "cell_type": "code",
   "execution_count": 8,
   "metadata": {},
   "outputs": [
    {
     "name": "stdout",
     "output_type": "stream",
     "text": [
      "      targetname          datetime_str   datetime_jd ...  PABLon   PABLat\n",
      "         ---                  ---             d      ...   deg      deg  \n",
      "---------------------- ----------------- ----------- ... -------- -------\n",
      "Flewelling (C/2019 D1) 2019-Jun-15 00:00   2458649.5 ... 348.5762 37.0701\n",
      "Flewelling (C/2019 D1) 2019-Jun-15 03:00 2458649.625 ... 348.6684 37.0706\n",
      "Flewelling (C/2019 D1) 2019-Jun-15 06:00  2458649.75 ... 348.7602 37.0713\n",
      "Flewelling (C/2019 D1) 2019-Jun-15 09:00 2458649.875 ... 348.8515 37.0721\n",
      "Flewelling (C/2019 D1) 2019-Jun-15 12:00   2458650.0 ... 348.9423 37.0727\n",
      "Flewelling (C/2019 D1) 2019-Jun-15 15:00 2458650.125 ... 349.0329  37.073\n",
      "Flewelling (C/2019 D1) 2019-Jun-15 18:00  2458650.25 ... 349.1236  37.073\n",
      "Flewelling (C/2019 D1) 2019-Jun-15 21:00 2458650.375 ... 349.2147 37.0728\n",
      "Flewelling (C/2019 D1) 2019-Jun-16 00:00   2458650.5 ... 349.3061 37.0727\n",
      "Flewelling (C/2019 D1) 2019-Jun-16 03:00 2458650.625 ... 349.3975 37.0727\n",
      "                   ...               ...         ... ...      ...     ...\n",
      "Flewelling (C/2019 D1) 2019-Jul-28 21:00 2458693.375 ...  13.4711 34.3833\n",
      "Flewelling (C/2019 D1) 2019-Jul-29 00:00   2458693.5 ...   13.521 34.3702\n",
      "Flewelling (C/2019 D1) 2019-Jul-29 03:00 2458693.625 ...  13.5707 34.3574\n",
      "Flewelling (C/2019 D1) 2019-Jul-29 06:00  2458693.75 ...    13.62 34.3448\n",
      "Flewelling (C/2019 D1) 2019-Jul-29 09:00 2458693.875 ...  13.6686 34.3323\n",
      "Flewelling (C/2019 D1) 2019-Jul-29 12:00   2458694.0 ...  13.7169 34.3195\n",
      "Flewelling (C/2019 D1) 2019-Jul-29 15:00 2458694.125 ...  13.7651 34.3064\n",
      "Flewelling (C/2019 D1) 2019-Jul-29 18:00  2458694.25 ...  13.8135  34.293\n",
      "Flewelling (C/2019 D1) 2019-Jul-29 21:00 2458694.375 ...  13.8623 34.2796\n",
      "Flewelling (C/2019 D1) 2019-Jul-30 00:00   2458694.5 ...  13.9113 34.2664\n",
      "Length = 361 rows\n"
     ]
    }
   ],
   "source": [
    "from astropy.table import Table\n",
    "ephemTable = Table.read('ephem.fits')\n",
    "#print(ephemTable)"
   ]
  },
  {
   "cell_type": "code",
   "execution_count": null,
   "metadata": {},
   "outputs": [],
   "source": []
  }
 ],
 "metadata": {
  "kernelspec": {
   "display_name": "Python 3",
   "language": "python",
   "name": "python3"
  },
  "language_info": {
   "codemirror_mode": {
    "name": "ipython",
    "version": 3
   },
   "file_extension": ".py",
   "mimetype": "text/x-python",
   "name": "python",
   "nbconvert_exporter": "python",
   "pygments_lexer": "ipython3",
   "version": "3.6.8"
  }
 },
 "nbformat": 4,
 "nbformat_minor": 2
}
