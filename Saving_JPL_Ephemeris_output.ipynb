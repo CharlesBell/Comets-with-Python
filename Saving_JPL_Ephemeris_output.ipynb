{
 "cells": [
  {
   "cell_type": "markdown",
   "metadata": {},
   "source": [
    "# JPL Horizons Ephemeris Plots\n"
   ]
  },
  {
   "cell_type": "markdown",
   "metadata": {},
   "source": [
    " <p>AstroQuery provides convenient way to produce an Ephemeris for a solar system object.  Docs are on at #https://astroquery.readthedocs.io/en/latest/ \n",
    " </p>\n",
    " <p>Astroquery for Horizons docs are at https://astroquery.readthedocs.io/en/latest/jplhorizons/jplhorizons.html  </p>\n",
    " <p>Each cell below can be executed by selecting it and entering <b>Control-Enter</b> </p>\n",
    " \n"
   ]
  },
  {
   "cell_type": "markdown",
   "metadata": {},
   "source": [
    "<p><b>Horizons</b> is the astro query target </p>\n",
    "<p><b>obj</b> is the object returned by the Horizons web server.</p>\n",
    "<p><b>eph</b> is the ephemeris associated with the query return. eph is a table of row and column values. The first line gives the column headers. </p>\n",
    "\n"
   ]
  },
  {
   "cell_type": "code",
   "execution_count": 1,
   "metadata": {},
   "outputs": [
    {
     "name": "stderr",
     "output_type": "stream",
     "text": [
      "WARNING: AstropyDeprecationWarning: astropy.extern.six will be removed in 4.0, use the six module directly if it is still needed [astropy.extern.six]\n"
     ]
    }
   ],
   "source": [
    "#https://astroquery.readthedocs.io/en/latest/\n",
    "import matplotlib.pyplot as plt\n",
    "from astroquery.jplhorizons import Horizons\n",
    "obj = Horizons(id='C/2019 D1', location='H47',epochs={'start':'2019-06-15', 'stop':'2019-07-30','step':'3h'} )\n",
    "eph = obj.ephemerides()\n"
   ]
  },
  {
   "cell_type": "markdown",
   "metadata": {},
   "source": [
    "<p>The ephemeris object can be saved in several formats for offline processing. </p> \n",
    "<p>Example:\n",
    "<pre>\n",
    "eph.write('ephem.html', format='jsviewer')\n",
    "eph.write('ephem.csv', format='csv')\n",
    "eph.write('ephem.txt', format='ascii')\n",
    "eph.write('ephem.fits', format='fits', overwrite=True)\n",
    "eph.write('ephem.xml', format='votable')\n",
    "eph.write('ephem.tex', format='latex')\n",
    "</pre>\n",
    "</p>"
   ]
  },
  {
   "cell_type": "code",
   "execution_count": null,
   "metadata": {},
   "outputs": [],
   "source": [
    "eph.write('ephem.html', format='jsviewer')\n",
    "eph.write('ephem.csv', format='csv')\n",
    "eph.write('ephem.txt', format='ascii')\n",
    "#eph.write('ephem.fits', format='fits', overwrite=True)\n",
    "eph.write('ephem.xml', format='votable')\n",
    "eph.write('ephem.tex', format='latex')"
   ]
  },
  {
   "cell_type": "markdown",
   "metadata": {},
   "source": [
    "\n",
    "\n",
    "fits tables can be viewed or plotted using\n",
    "fv: FITS Viewer and Editor (version 5.3)\n",
    "http://heasarc.gsfc.nasa.gov/ftools/fv\n"
   ]
  },
  {
   "cell_type": "markdown",
   "metadata": {},
   "source": [
    "Data arrays can be retrieved from the object ephemerides by calling the column name. \n",
    "They are astropy tables. http://docs.astropy.org/en/stable/table/index.html\n",
    "<p> examples: \n",
    "    <ul> r = eph.columns[eph.index_column('r')] </ul>\n",
    "</p>\n",
    "<p> <ul> delta = eph.columns[eph.index_column('delta')] </ul>\n",
    "</p>\n",
    "<p>Data arrays can easily be plotted with matplotlib.</p>\n"
   ]
  },
  {
   "cell_type": "markdown",
   "metadata": {},
   "source": [
    "\n",
    "xxxxxxxxxxxxxxx\n"
   ]
  },
  {
   "cell_type": "code",
   "execution_count": 2,
   "metadata": {},
   "outputs": [
    {
     "name": "stderr",
     "output_type": "stream",
     "text": [
      "WARNING: UnitsWarning: '---' did not parse as fits unit: Invalid character at col 0 [astropy.units.core]\n"
     ]
    }
   ],
   "source": []
  }
 ],
 "metadata": {
  "kernelspec": {
   "display_name": "Python 3",
   "language": "python",
   "name": "python3"
  },
  "language_info": {
   "codemirror_mode": {
    "name": "ipython",
    "version": 3
   },
   "file_extension": ".py",
   "mimetype": "text/x-python",
   "name": "python",
   "nbconvert_exporter": "python",
   "pygments_lexer": "ipython3",
   "version": "3.6.8"
  }
 },
 "nbformat": 4,
 "nbformat_minor": 2
}
