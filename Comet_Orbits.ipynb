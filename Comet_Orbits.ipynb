{
 "cells": [
  {
   "cell_type": "markdown",
   "metadata": {},
   "source": [
    "<h2>Comet Orbits</h2>\n",
    "\n",
    "<p>A typical comet has a highly eccentric orbit</p>\n",
    "\n",
    "<ul>Orbit types:\n",
    "    <li>By period P, comets are either Short Period Comets (SPC) (P < 200 years) \n",
    "       or long period Comets (LPC) (P > 200 years)</li>\n",
    "    <li>Long-Period Comets (LPC) are also referred to as  Nearly Isotropic Comets (NIC) \n",
    "        with nearly isotropic distributions of orbital parameters</li>\n",
    "    <li>By eccentricity e, comet orbits are either elliptical (e < 1), parabolic (e = 1), or hyperbolic (e > 1)</li>\n",
    "    <li>Halley-type comets (HTC) are short period comets classically defined with period between 20 and 200 years \n",
    "        (20 y < P < 200 y)   </li>\n",
    "    <li>By Jupter Tisserand parameter, T_Jupiter:</li>\n",
    "   <li>Jupiter-family comet (JFC), as defined by Levison and Duncan (2 < T_Jupiter < 3)</li>\n",
    "   <li>Halley-family comets (HFCs) as defined by Levison and Duncan (T_Jupiter < 2)</li>\n",
    "   <li>Encke-type comet, as defined by Levison and Duncan (T_Jupiter > 3; semimajor axis a < a_Jupiter).</li>\n",
    "   <li>Chiron-type comet, as defined by Levison and Duncan (T_Jupiter > 3; a > a_Jupiter).</li>\n",
    "    <li>Ecliptic Comets (EC) are those with (2 < T_Jupiter < 3) with short period (P <  20 years).  \n",
    "    <li>Nearly Isotropic Comets (NIC) are those with (T_Jupiter < 2) </li>\n",
    "        \n",
    "\n",
    "</ul> \n",
    "\n",
    "\n",
    "\n",
    "<h4 align=\"center\">Jupiter Tisserand parameter </h4> \n",
    "<table align=\"center\">\n",
    "    \n",
    "<tr><td>\n",
    "\\begin{equation}\n",
    "T_J = \\frac{a_J}{a} + 2 \\left[(1 - e^2)\\frac{a}{a_J}\\right]^{1/2} \\cos(i)\n",
    "\\end{equation}\n",
    "    </td>  \n",
    "</tr></table>\n",
    "\n",
    "References:\n",
    "<p>Levison, Harold F.; Duncan, Martin J.; The long-term dynamical behavior of short-period comets; Icarus, vol. 108, no. 1, p. 18-36, (Mar 1994)</p>\n",
    "\n",
    "<p>Levison, H. F.; Comet Taxonomy in Completing the Inventory of the Solar System, Astronomical Society of the Pacific Conference Proceedings, volume 107, T.W. Rettig and J.M. Hahn, Eds., pp. 173-191.(1996)</p>\n",
    "\n",
    "<p>Duncan, Martin; Levison, Harold F.; Donnes, Luke; Dynamical Evolution of Ecliptic Comets (2004) in Comets II </p>\n",
    "\n",
    "</table>"
   ]
  },
  {
   "cell_type": "code",
   "execution_count": 18,
   "metadata": {},
   "outputs": [
    {
     "name": "stdout",
     "output_type": "stream",
     "text": [
      "semimajor axis a =  4 au\n",
      "eccentricity e =  0.6\n",
      "inclination i =  15 deg\n",
      "Jupiter Tisserand T_Jupiter =  2.6558224186677424\n"
     ]
    }
   ],
   "source": [
    "import math\n",
    "\n",
    "def getJupiterTisserand(a, e, i):\n",
    "    a_Jupiter = 5.20288700\n",
    "    tisserand = (a / a_Jupiter) * (1 - e * e)\n",
    "    tisserand = math.sqrt(tisserand) * math.cos(math.radians(i))\n",
    "    tisserand = 2 * tisserand + (a_Jupiter / a)                                \n",
    "    return tisserand\n",
    " \n",
    "         \n",
    "a = 4\n",
    "e = 0.6\n",
    "i = 15\n",
    "print('semimajor axis a = ', a, 'au')\n",
    "print('eccentricity e = ', e)\n",
    "print('inclination i = ', i, 'deg')\n",
    "print('Jupiter Tisserand T_Jupiter = ', getJupiterTisserand(a, e, i))\n",
    "\n"
   ]
  },
  {
   "cell_type": "code",
   "execution_count": null,
   "metadata": {},
   "outputs": [],
   "source": []
  }
 ],
 "metadata": {
  "kernelspec": {
   "display_name": "Python 3",
   "language": "python",
   "name": "python3"
  },
  "language_info": {
   "codemirror_mode": {
    "name": "ipython",
    "version": 3
   },
   "file_extension": ".py",
   "mimetype": "text/x-python",
   "name": "python",
   "nbconvert_exporter": "python",
   "pygments_lexer": "ipython3",
   "version": "3.6.8"
  }
 },
 "nbformat": 4,
 "nbformat_minor": 2
}
